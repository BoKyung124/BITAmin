{
 "cells": [
  {
   "cell_type": "markdown",
   "id": "cb7b17db",
   "metadata": {
    "id": "cb7b17db"
   },
   "source": [
    "# 3주차 세션\n",
    "### 03/09 1조 실습"
   ]
  },
  {
   "cell_type": "markdown",
   "id": "ee9e27ff",
   "metadata": {
    "id": "ee9e27ff"
   },
   "source": [
    "* 실습에 사용하는 데이터 : abalone\n",
    "* 데이터 출처 https://realpython.com/knn-python/"
   ]
  },
  {
   "cell_type": "markdown",
   "id": "d8cdbf6e",
   "metadata": {
    "id": "d8cdbf6e"
   },
   "source": [
    "## **3-1 k-최근접 이웃 회귀**\n",
    "abalone의 length를 기준으로 k-최근접 이웃 회귀 기법을 활용해 diameter 예측\n"
   ]
  },
  {
   "cell_type": "code",
   "execution_count": 1,
   "id": "8ab8bad5",
   "metadata": {
    "colab": {
     "base_uri": "https://localhost:8080/",
     "height": 423
    },
    "id": "8ab8bad5",
    "outputId": "bd80f19b-3f50-4a9d-a660-481ddd6ae042"
   },
   "outputs": [
    {
     "data": {
      "text/html": [
       "<div>\n",
       "<style scoped>\n",
       "    .dataframe tbody tr th:only-of-type {\n",
       "        vertical-align: middle;\n",
       "    }\n",
       "\n",
       "    .dataframe tbody tr th {\n",
       "        vertical-align: top;\n",
       "    }\n",
       "\n",
       "    .dataframe thead th {\n",
       "        text-align: right;\n",
       "    }\n",
       "</style>\n",
       "<table border=\"1\" class=\"dataframe\">\n",
       "  <thead>\n",
       "    <tr style=\"text-align: right;\">\n",
       "      <th></th>\n",
       "      <th>0</th>\n",
       "      <th>1</th>\n",
       "      <th>2</th>\n",
       "      <th>3</th>\n",
       "      <th>4</th>\n",
       "      <th>5</th>\n",
       "      <th>6</th>\n",
       "      <th>7</th>\n",
       "      <th>8</th>\n",
       "    </tr>\n",
       "  </thead>\n",
       "  <tbody>\n",
       "    <tr>\n",
       "      <th>0</th>\n",
       "      <td>M</td>\n",
       "      <td>0.455</td>\n",
       "      <td>0.365</td>\n",
       "      <td>0.095</td>\n",
       "      <td>0.5140</td>\n",
       "      <td>0.2245</td>\n",
       "      <td>0.1010</td>\n",
       "      <td>0.1500</td>\n",
       "      <td>15</td>\n",
       "    </tr>\n",
       "    <tr>\n",
       "      <th>1</th>\n",
       "      <td>M</td>\n",
       "      <td>0.350</td>\n",
       "      <td>0.265</td>\n",
       "      <td>0.090</td>\n",
       "      <td>0.2255</td>\n",
       "      <td>0.0995</td>\n",
       "      <td>0.0485</td>\n",
       "      <td>0.0700</td>\n",
       "      <td>7</td>\n",
       "    </tr>\n",
       "    <tr>\n",
       "      <th>2</th>\n",
       "      <td>F</td>\n",
       "      <td>0.530</td>\n",
       "      <td>0.420</td>\n",
       "      <td>0.135</td>\n",
       "      <td>0.6770</td>\n",
       "      <td>0.2565</td>\n",
       "      <td>0.1415</td>\n",
       "      <td>0.2100</td>\n",
       "      <td>9</td>\n",
       "    </tr>\n",
       "    <tr>\n",
       "      <th>3</th>\n",
       "      <td>M</td>\n",
       "      <td>0.440</td>\n",
       "      <td>0.365</td>\n",
       "      <td>0.125</td>\n",
       "      <td>0.5160</td>\n",
       "      <td>0.2155</td>\n",
       "      <td>0.1140</td>\n",
       "      <td>0.1550</td>\n",
       "      <td>10</td>\n",
       "    </tr>\n",
       "    <tr>\n",
       "      <th>4</th>\n",
       "      <td>I</td>\n",
       "      <td>0.330</td>\n",
       "      <td>0.255</td>\n",
       "      <td>0.080</td>\n",
       "      <td>0.2050</td>\n",
       "      <td>0.0895</td>\n",
       "      <td>0.0395</td>\n",
       "      <td>0.0550</td>\n",
       "      <td>7</td>\n",
       "    </tr>\n",
       "    <tr>\n",
       "      <th>...</th>\n",
       "      <td>...</td>\n",
       "      <td>...</td>\n",
       "      <td>...</td>\n",
       "      <td>...</td>\n",
       "      <td>...</td>\n",
       "      <td>...</td>\n",
       "      <td>...</td>\n",
       "      <td>...</td>\n",
       "      <td>...</td>\n",
       "    </tr>\n",
       "    <tr>\n",
       "      <th>4172</th>\n",
       "      <td>F</td>\n",
       "      <td>0.565</td>\n",
       "      <td>0.450</td>\n",
       "      <td>0.165</td>\n",
       "      <td>0.8870</td>\n",
       "      <td>0.3700</td>\n",
       "      <td>0.2390</td>\n",
       "      <td>0.2490</td>\n",
       "      <td>11</td>\n",
       "    </tr>\n",
       "    <tr>\n",
       "      <th>4173</th>\n",
       "      <td>M</td>\n",
       "      <td>0.590</td>\n",
       "      <td>0.440</td>\n",
       "      <td>0.135</td>\n",
       "      <td>0.9660</td>\n",
       "      <td>0.4390</td>\n",
       "      <td>0.2145</td>\n",
       "      <td>0.2605</td>\n",
       "      <td>10</td>\n",
       "    </tr>\n",
       "    <tr>\n",
       "      <th>4174</th>\n",
       "      <td>M</td>\n",
       "      <td>0.600</td>\n",
       "      <td>0.475</td>\n",
       "      <td>0.205</td>\n",
       "      <td>1.1760</td>\n",
       "      <td>0.5255</td>\n",
       "      <td>0.2875</td>\n",
       "      <td>0.3080</td>\n",
       "      <td>9</td>\n",
       "    </tr>\n",
       "    <tr>\n",
       "      <th>4175</th>\n",
       "      <td>F</td>\n",
       "      <td>0.625</td>\n",
       "      <td>0.485</td>\n",
       "      <td>0.150</td>\n",
       "      <td>1.0945</td>\n",
       "      <td>0.5310</td>\n",
       "      <td>0.2610</td>\n",
       "      <td>0.2960</td>\n",
       "      <td>10</td>\n",
       "    </tr>\n",
       "    <tr>\n",
       "      <th>4176</th>\n",
       "      <td>M</td>\n",
       "      <td>0.710</td>\n",
       "      <td>0.555</td>\n",
       "      <td>0.195</td>\n",
       "      <td>1.9485</td>\n",
       "      <td>0.9455</td>\n",
       "      <td>0.3765</td>\n",
       "      <td>0.4950</td>\n",
       "      <td>12</td>\n",
       "    </tr>\n",
       "  </tbody>\n",
       "</table>\n",
       "<p>4177 rows × 9 columns</p>\n",
       "</div>"
      ],
      "text/plain": [
       "      0      1      2      3       4       5       6       7   8\n",
       "0     M  0.455  0.365  0.095  0.5140  0.2245  0.1010  0.1500  15\n",
       "1     M  0.350  0.265  0.090  0.2255  0.0995  0.0485  0.0700   7\n",
       "2     F  0.530  0.420  0.135  0.6770  0.2565  0.1415  0.2100   9\n",
       "3     M  0.440  0.365  0.125  0.5160  0.2155  0.1140  0.1550  10\n",
       "4     I  0.330  0.255  0.080  0.2050  0.0895  0.0395  0.0550   7\n",
       "...  ..    ...    ...    ...     ...     ...     ...     ...  ..\n",
       "4172  F  0.565  0.450  0.165  0.8870  0.3700  0.2390  0.2490  11\n",
       "4173  M  0.590  0.440  0.135  0.9660  0.4390  0.2145  0.2605  10\n",
       "4174  M  0.600  0.475  0.205  1.1760  0.5255  0.2875  0.3080   9\n",
       "4175  F  0.625  0.485  0.150  1.0945  0.5310  0.2610  0.2960  10\n",
       "4176  M  0.710  0.555  0.195  1.9485  0.9455  0.3765  0.4950  12\n",
       "\n",
       "[4177 rows x 9 columns]"
      ]
     },
     "execution_count": 1,
     "metadata": {},
     "output_type": "execute_result"
    }
   ],
   "source": [
    "import numpy as np\n",
    "import pandas as pd\n",
    "import matplotlib.pyplot as plt\n",
    "\n",
    "#자료 불러오기\n",
    "url = (\n",
    "    \"\"\"https://archive.ics.uci.edu/ml/machine-learning-databases/abalone/abalone.data\"\"\"\n",
    " )\n",
    "abalone = pd.read_csv(url, header=None)\n",
    "\n",
    "abalone"
   ]
  },
  {
   "cell_type": "markdown",
   "id": "8456a96b",
   "metadata": {
    "id": "8456a96b"
   },
   "source": [
    "colum이 숫자로 돼 있기 때문에 column에 이름 부여<br>\n",
    "sex 열은 고려하지 않으므로 삭제<br><br>\n",
    "inplace=True로 해도 되고\n",
    "아래처럼 그냥 abalone 자체가 새로운 데이터프레임을 참조하도록 해줘도 됨"
   ]
  },
  {
   "cell_type": "code",
   "execution_count": 2,
   "id": "c44749e3",
   "metadata": {
    "colab": {
     "base_uri": "https://localhost:8080/",
     "height": 206
    },
    "id": "c44749e3",
    "outputId": "7914635f-f46b-4236-b9ab-0769e90abbea"
   },
   "outputs": [
    {
     "data": {
      "text/html": [
       "<div>\n",
       "<style scoped>\n",
       "    .dataframe tbody tr th:only-of-type {\n",
       "        vertical-align: middle;\n",
       "    }\n",
       "\n",
       "    .dataframe tbody tr th {\n",
       "        vertical-align: top;\n",
       "    }\n",
       "\n",
       "    .dataframe thead th {\n",
       "        text-align: right;\n",
       "    }\n",
       "</style>\n",
       "<table border=\"1\" class=\"dataframe\">\n",
       "  <thead>\n",
       "    <tr style=\"text-align: right;\">\n",
       "      <th></th>\n",
       "      <th>Length</th>\n",
       "      <th>Diameter</th>\n",
       "      <th>Height</th>\n",
       "      <th>Whole weight</th>\n",
       "      <th>Shucked weight</th>\n",
       "      <th>Viscera weight</th>\n",
       "      <th>Shell weight</th>\n",
       "      <th>Rings</th>\n",
       "    </tr>\n",
       "  </thead>\n",
       "  <tbody>\n",
       "    <tr>\n",
       "      <th>0</th>\n",
       "      <td>0.455</td>\n",
       "      <td>0.365</td>\n",
       "      <td>0.095</td>\n",
       "      <td>0.5140</td>\n",
       "      <td>0.2245</td>\n",
       "      <td>0.1010</td>\n",
       "      <td>0.150</td>\n",
       "      <td>15</td>\n",
       "    </tr>\n",
       "    <tr>\n",
       "      <th>1</th>\n",
       "      <td>0.350</td>\n",
       "      <td>0.265</td>\n",
       "      <td>0.090</td>\n",
       "      <td>0.2255</td>\n",
       "      <td>0.0995</td>\n",
       "      <td>0.0485</td>\n",
       "      <td>0.070</td>\n",
       "      <td>7</td>\n",
       "    </tr>\n",
       "    <tr>\n",
       "      <th>2</th>\n",
       "      <td>0.530</td>\n",
       "      <td>0.420</td>\n",
       "      <td>0.135</td>\n",
       "      <td>0.6770</td>\n",
       "      <td>0.2565</td>\n",
       "      <td>0.1415</td>\n",
       "      <td>0.210</td>\n",
       "      <td>9</td>\n",
       "    </tr>\n",
       "    <tr>\n",
       "      <th>3</th>\n",
       "      <td>0.440</td>\n",
       "      <td>0.365</td>\n",
       "      <td>0.125</td>\n",
       "      <td>0.5160</td>\n",
       "      <td>0.2155</td>\n",
       "      <td>0.1140</td>\n",
       "      <td>0.155</td>\n",
       "      <td>10</td>\n",
       "    </tr>\n",
       "    <tr>\n",
       "      <th>4</th>\n",
       "      <td>0.330</td>\n",
       "      <td>0.255</td>\n",
       "      <td>0.080</td>\n",
       "      <td>0.2050</td>\n",
       "      <td>0.0895</td>\n",
       "      <td>0.0395</td>\n",
       "      <td>0.055</td>\n",
       "      <td>7</td>\n",
       "    </tr>\n",
       "  </tbody>\n",
       "</table>\n",
       "</div>"
      ],
      "text/plain": [
       "   Length  Diameter  Height  Whole weight  Shucked weight  Viscera weight  \\\n",
       "0   0.455     0.365   0.095        0.5140          0.2245          0.1010   \n",
       "1   0.350     0.265   0.090        0.2255          0.0995          0.0485   \n",
       "2   0.530     0.420   0.135        0.6770          0.2565          0.1415   \n",
       "3   0.440     0.365   0.125        0.5160          0.2155          0.1140   \n",
       "4   0.330     0.255   0.080        0.2050          0.0895          0.0395   \n",
       "\n",
       "   Shell weight  Rings  \n",
       "0         0.150     15  \n",
       "1         0.070      7  \n",
       "2         0.210      9  \n",
       "3         0.155     10  \n",
       "4         0.055      7  "
      ]
     },
     "execution_count": 2,
     "metadata": {},
     "output_type": "execute_result"
    }
   ],
   "source": [
    "abalone.columns = [\"Sex\",\"Length\",\"Diameter\",\"Height\",\"Whole weight\",\n",
    "\"Shucked weight\",\"Viscera weight\",\"Shell weight\",\"Rings\"]\n",
    "abalone = abalone.drop(\"Sex\", axis = 1)\n",
    "abalone.head()"
   ]
  },
  {
   "cell_type": "markdown",
   "id": "0f85cxt5PaS9",
   "metadata": {
    "id": "0f85cxt5PaS9"
   },
   "source": [
    "### DBSCAN을 활용해 이상치를 탐지하기\n"
   ]
  },
  {
   "cell_type": "code",
   "execution_count": 5,
   "id": "9be9ad47",
   "metadata": {
    "colab": {
     "base_uri": "https://localhost:8080/"
    },
    "id": "9be9ad47",
    "outputId": "0e7cba13-d08f-4e60-d10c-5512f074daf7"
   },
   "outputs": [
    {
     "data": {
      "text/plain": [
       " 2     685\n",
       " 3     626\n",
       " 4     565\n",
       " 8     481\n",
       " 1     390\n",
       " 14    252\n",
       " 9     240\n",
       " 11    195\n",
       "-1     163\n",
       " 7     117\n",
       " 12    113\n",
       " 0     100\n",
       " 13     57\n",
       " 5      54\n",
       " 16     47\n",
       " 6      19\n",
       " 10     17\n",
       " 15     15\n",
       " 17     15\n",
       " 19     14\n",
       " 18     12\n",
       "dtype: int64"
      ]
     },
     "execution_count": 5,
     "metadata": {},
     "output_type": "execute_result"
    }
   ],
   "source": [
    "# DBSCAN을 활용한 이상치 탐지\n",
    "# sklearn.cluster 라이브러리에서 DBSCAN을 import\n",
    "# eps = 0.2, min_samples = 10으로 설정\n",
    "# eps: 반지름, min_samples: 반경 내 최소 샘플 수\n",
    "\n",
    "from sklearn.cluster import DBSCAN\n",
    "\n",
    "model = DBSCAN(eps = 0.2, min_samples = 10)\n",
    "pred_db = model.fit_predict(abalone)\n",
    "\n",
    "pd.Series(pred_db).value_counts()"
   ]
  },
  {
   "cell_type": "code",
   "execution_count": 6,
   "id": "183fe419",
   "metadata": {
    "colab": {
     "base_uri": "https://localhost:8080/"
    },
    "id": "183fe419",
    "outputId": "958c9014-6387-4d48-9c11-cb0cb34af10f"
   },
   "outputs": [
    {
     "name": "stdout",
     "output_type": "stream",
     "text": [
      "DBSCAN이 탐지한 이상치 개수 : 163\n"
     ]
    }
   ],
   "source": [
    "# 이상치 개수\n",
    "print('DBSCAN이 탐지한 이상치 개수 :', (pred_db == -1).sum())"
   ]
  },
  {
   "cell_type": "markdown",
   "id": "SL3XSye8QNMi",
   "metadata": {
    "id": "SL3XSye8QNMi"
   },
   "source": [
    "### 1) pred_db 값이 -1인 열의 인덱스를 찾은 후, ablaone에서 해당 인덱스에 해당하는 행들을 제거해 abalone_removed에 저장하세요"
   ]
  },
  {
   "cell_type": "code",
   "execution_count": 10,
   "id": "0c3c19ef",
   "metadata": {
    "colab": {
     "base_uri": "https://localhost:8080/"
    },
    "id": "0c3c19ef",
    "outputId": "a2608d22-1a1b-4a60-a695-af4074c83c92"
   },
   "outputs": [
    {
     "name": "stdout",
     "output_type": "stream",
     "text": [
      "이상치 제거 전 관측치 수 : 4177\n",
      "이상치 제거 후 관측치 수 : 4014\n"
     ]
    }
   ],
   "source": [
    "#방법1\n",
    "# 이상치 인덱스 저장하기\n",
    "# pred_db 값이 -1인 인덱스를 찾아서 index_remove에 저장하세요\n",
    "# np.where : 조건에 맞는 인덱스 찾기\n",
    "\n",
    "index_remove = np.where(pred_db == -1)\n",
    "\n",
    "# 이상치 인덱스를 활용해 이상치 제거\n",
    "\n",
    "abalone_removed = abalone.drop(index_remove[0])\n",
    "print('이상치 제거 전 관측치 수 :', len(abalone))\n",
    "print('이상치 제거 후 관측치 수 :', len(abalone_removed))"
   ]
  },
  {
   "cell_type": "code",
   "execution_count": 11,
   "id": "b72e29ad",
   "metadata": {},
   "outputs": [
    {
     "data": {
      "text/plain": [
       "(array([   6,   33,   81,   83,  128,  129,  163,  164,  165,  166,  167,\n",
       "         168,  169,  170,  181,  232,  236,  270,  275,  277,  278,  294,\n",
       "         310,  312,  313,  314,  334,  351,  355,  357,  358,  359,  362,\n",
       "         369,  371,  372,  375,  428,  433,  450,  468,  469,  478,  480,\n",
       "         501,  530,  542,  570,  582,  593,  613,  621,  628,  660,  664,\n",
       "         673,  674,  675,  678,  699,  719,  744,  746,  754,  811,  860,\n",
       "         882,  891, 1039, 1044, 1051, 1052, 1145, 1193, 1207, 1209, 1210,\n",
       "        1216, 1416, 1417, 1419, 1426, 1427, 1428, 1528, 1754, 1755, 1756,\n",
       "        1762, 1763, 1812, 1821, 1985, 2051, 2090, 2101, 2108, 2151, 2157,\n",
       "        2160, 2161, 2180, 2183, 2199, 2201, 2209, 2210, 2265, 2274, 2305,\n",
       "        2334, 2335, 2344, 2345, 2353, 2366, 2368, 2390, 2402, 2416, 2418,\n",
       "        2436, 2538, 2542, 2619, 2623, 2624, 2625, 2627, 2810, 2811, 2862,\n",
       "        2863, 2972, 3007, 3008, 3081, 3148, 3149, 3151, 3188, 3244, 3274,\n",
       "        3280, 3316, 3319, 3372, 3392, 3401, 3427, 3599, 3628, 3715, 3800,\n",
       "        3924, 3930, 3961, 3962, 3982, 3983, 3996, 4052, 4148]),)"
      ]
     },
     "execution_count": 11,
     "metadata": {},
     "output_type": "execute_result"
    }
   ],
   "source": [
    "index_remove"
   ]
  },
  {
   "cell_type": "code",
   "execution_count": 12,
   "id": "1653a859",
   "metadata": {
    "colab": {
     "base_uri": "https://localhost:8080/"
    },
    "id": "1653a859",
    "outputId": "34de724b-068e-4cf9-eb8d-a5d0ea6b1fe5"
   },
   "outputs": [
    {
     "name": "stdout",
     "output_type": "stream",
     "text": [
      "이상치 제거 전 관측치 수 : 4177\n",
      "이상치 제거 후 관측치 수 : 4014\n"
     ]
    }
   ],
   "source": [
    "#방법2\n",
    "\n",
    "abalone_removed = abalone[pred_db!=-1]\n",
    "print('이상치 제거 전 관측치 수 :', len(abalone))\n",
    "print('이상치 제거 후 관측치 수 :', len(abalone_removed))"
   ]
  },
  {
   "cell_type": "markdown",
   "id": "1fd9e8db",
   "metadata": {
    "id": "1fd9e8db"
   },
   "source": [
    "length 와 diameter의 상관계를 보기 위해 scatterplot 활용"
   ]
  },
  {
   "cell_type": "code",
   "execution_count": 13,
   "id": "0dba6d3e",
   "metadata": {
    "colab": {
     "base_uri": "https://localhost:8080/",
     "height": 279
    },
    "id": "0dba6d3e",
    "outputId": "c0a1b888-5e18-4be1-a537-9578a7b5527a"
   },
   "outputs": [
    {
     "data": {
      "image/png": "[encoded data removed]",
      "text/plain": [
       "<Figure size 432x288 with 1 Axes>"
      ]
     },
     "metadata": {
      "needs_background": "light"
     },
     "output_type": "display_data"
    }
   ],
   "source": [
    "x = abalone_removed[\"Length\"]\n",
    "y = abalone_removed[\"Diameter\"]\n",
    "\n",
    "plt.scatter(x,y)\n",
    "plt.xlabel(\"length\")\n",
    "plt.ylabel(\"diameter\")\n",
    "plt.show()"
   ]
  },
  {
   "cell_type": "markdown",
   "id": "fc9a7475",
   "metadata": {
    "id": "fc9a7475"
   },
   "source": [
    "### 2) train_test_split을 활용해 train set과 test set으로 나누세요<br>\n",
    "독립변수는 Length, 종속변수는 Diameter, test_size = 0.2, random_state = 5<br>"
   ]
  },
  {
   "cell_type": "code",
   "execution_count": 19,
   "id": "1b91950b",
   "metadata": {
    "colab": {
     "base_uri": "https://localhost:8080/"
    },
    "id": "1b91950b",
    "outputId": "841d6c15-c8f0-4e9b-b537-62d233c69fa7"
   },
   "outputs": [
    {
     "name": "stdout",
     "output_type": "stream",
     "text": [
      "(3211,) (803,)\n"
     ]
    }
   ],
   "source": [
    "from sklearn.model_selection import train_test_split\n",
    "\n",
    "train_input, test_input, train_target, train_target =\\\n",
    "    train_test_split(abalone_removed['Length'], abalone_removed['Diameter'], test_size = 0.2, random_state = 5)\n",
    "\n",
    "print(train_input.shape, test_input.shape)"
   ]
  },
  {
   "cell_type": "markdown",
   "id": "wwOXs-f8SG7u",
   "metadata": {
    "id": "wwOXs-f8SG7u"
   },
   "source": [
    "### 3) train_input과 test_input을 2차원의 형태로 만들어서 train_input과 test_input의 shape 출력하세요"
   ]
  },
  {
   "cell_type": "markdown",
   "id": "7111c956",
   "metadata": {
    "id": "7111c956"
   },
   "source": [
    "KNeighborRegressor에 넣어주려면 배열의 크기를 2차원으로 바꿔줘야 함.<br><br>\n",
    "책에서는 reshape(-1,1)을 썼지만, 아래처럼 np.newaxis를 활용한 슬라이싱 표현을 써주면,\n",
    "<br>\n",
    "1d array를 row vector나 column vector의 형태로 바꿀 수 있음.\n",
    "<br>\n",
    "np.newaxis가 1의 역할을 하게 됨.\n",
    "<br>\n",
    "(reshape vs np.newaxis -> https://azanewta.tistory.com/3)\n",
    "<br><br>\n",
    "1차원에 크기 (3132,) -> 2차원에 크기 (3132, 1)"
   ]
  },
  {
   "cell_type": "code",
   "execution_count": 20,
   "id": "87e78110",
   "metadata": {
    "colab": {
     "base_uri": "https://localhost:8080/"
    },
    "id": "87e78110",
    "outputId": "1f101b7f-2ab4-43aa-cf6c-99990f0b2945",
    "scrolled": true
   },
   "outputs": [
    {
     "name": "stdout",
     "output_type": "stream",
     "text": [
      "(3211,) (803,)\n",
      "(3211, 1) (803, 1)\n"
     ]
    }
   ],
   "source": [
    "print(train_input.shape, test_input.shape)\n",
    "\n",
    "train_input = np.array(train_input)[:,np.newaxis]\n",
    "test_input = np.array(test_input)[:,np.newaxis]\n",
    "\n",
    "print(train_input.shape, test_input.shape)"
   ]
  },
  {
   "cell_type": "markdown",
   "id": "1fe28ded",
   "metadata": {
    "id": "1fe28ded"
   },
   "source": [
    "아니면 처음부터 abalone[[\"Length\"]]를 활용해 추출해도 된다"
   ]
  },
  {
   "cell_type": "code",
   "execution_count": 21,
   "id": "8c5f921f",
   "metadata": {
    "colab": {
     "base_uri": "https://localhost:8080/"
    },
    "id": "8c5f921f",
    "outputId": "25018827-f1d4-48b4-eafe-81ca1fa074d4"
   },
   "outputs": [
    {
     "name": "stdout",
     "output_type": "stream",
     "text": [
      "(3341, 1) (836, 1)\n"
     ]
    }
   ],
   "source": [
    "train_input, test_input,train_target,test_target =\\\n",
    "    train_test_split(abalone[[\"Length\"]], abalone[[\"Diameter\"]],\n",
    "                    random_state = 5, test_size = 0.2)\n",
    "\n",
    "print(train_input.shape, test_input.shape)"
   ]
  },
  {
   "cell_type": "markdown",
   "id": "916ad9bb",
   "metadata": {
    "id": "916ad9bb"
   },
   "source": [
    "test set의 20%를 validation set으로 따로 분리해서 최적의 n값을 구하는 데 사용"
   ]
  },
  {
   "cell_type": "code",
   "execution_count": 22,
   "id": "9a8bc02b",
   "metadata": {
    "id": "9a8bc02b"
   },
   "outputs": [],
   "source": [
    "valid_size = int(len(train_input) * 0.2)\n",
    "\n",
    "valid_input = train_input[:valid_size]\n",
    "valid_target = train_target[:valid_size]\n",
    "\n",
    "train_input = train_input[valid_size:]\n",
    "train_target = train_target[valid_size:]\n",
    "\n",
    "#방법2를 사용했을 경우, 아래처럼 해도 됨\n",
    "#test_input = test_input.drop(valid_input.index)\n",
    "#test_target = test_target.drop(valid_target.index)"
   ]
  },
  {
   "cell_type": "code",
   "execution_count": 23,
   "id": "b9815df7",
   "metadata": {
    "colab": {
     "base_uri": "https://localhost:8080/"
    },
    "id": "b9815df7",
    "outputId": "2cf39efb-8f94-4131-af41-d85609040b0b",
    "scrolled": true
   },
   "outputs": [
    {
     "name": "stdout",
     "output_type": "stream",
     "text": [
      "(2673, 1) (668, 1)\n"
     ]
    }
   ],
   "source": [
    "print(train_input.shape, valid_input.shape)"
   ]
  },
  {
   "cell_type": "markdown",
   "id": "5799e2e9",
   "metadata": {
    "id": "5799e2e9"
   },
   "source": [
    "### 4) KNeighborsRegressor 객체를 생성해 knr에 저장하세요<br>\n",
    " knr에서 weights는 \"distance\"로, p는 2로 변경<br>\n",
    " train set을 활용해 훈련시킨 후, <br>\n",
    " knr.score() 매서드를 통해 결정계수 R^2을 구해서 출력하세요.\n"
   ]
  },
  {
   "cell_type": "code",
   "execution_count": 25,
   "id": "e1b2191a",
   "metadata": {
    "colab": {
     "base_uri": "https://localhost:8080/"
    },
    "id": "e1b2191a",
    "outputId": "11ef8fb0-85bf-4bb9-9683-4b9ce236fc81",
    "scrolled": true
   },
   "outputs": [
    {
     "name": "stdout",
     "output_type": "stream",
     "text": [
      "0.9694802283580433\n",
      "0.9759932299685116\n",
      "r2_score of train set : 0.9694802283580433\n",
      "r2_score of test set  : 0.9759932299685116\n"
     ]
    }
   ],
   "source": [
    "from sklearn.neighbors import KNeighborsRegressor\n",
    "\n",
    "#metics 라이브러리의 r2_score 매서드를 활용해도 됩니다!\n",
    "from sklearn.metrics import r2_score\n",
    "\n",
    "knr = KNeighborsRegressor()\n",
    "knr.weights = 'distance'\n",
    "knr.p = 2\n",
    "\n",
    "knr.fit(train_input, train_target)\n",
    "\n",
    "print(knr.score(train_input, train_target))\n",
    "print(knr.score(test_input,test_target))\n",
    "print(\"r2_score of train set :\", r2_score(train_target, knr.predict(train_input)))\n",
    "print(\"r2_score of test set  :\", r2_score(test_target, knr.predict(test_input)))"
   ]
  },
  {
   "cell_type": "markdown",
   "id": "ed27803f",
   "metadata": {
    "id": "ed27803f"
   },
   "source": [
    "n_neighbors의 값을 조정해보면서 valid set의 R^2가 가장 높은 값 찾기<br>\n",
    "n_neighbors 값 조정할 때 다시 train set으로 train 시키지 않아도 됨!<br>\n",
    "데이터가 많아서 아마 37 정도가 괜찮은 듯"
   ]
  },
  {
   "cell_type": "code",
   "execution_count": 27,
   "id": "83b509c7",
   "metadata": {
    "colab": {
     "base_uri": "https://localhost:8080/",
     "height": 415
    },
    "id": "83b509c7",
    "outputId": "6ddc8196-6dce-4966-e5a2-9069d56fdbf4",
    "scrolled": true
   },
   "outputs": [
    {
     "data": {
      "image/png": "[encoded data removed]",
      "text/plain": [
       "<Figure size 432x432 with 1 Axes>"
      ]
     },
     "metadata": {
      "needs_background": "light"
     },
     "output_type": "display_data"
    },
    {
     "name": "stdout",
     "output_type": "stream",
     "text": [
      "maximum score : 0.9746364669547422\n",
      "maximum n_neighbors value : 34\n"
     ]
    }
   ],
   "source": [
    "v_lst = []\n",
    "for i in range(1,70):\n",
    "    knr.n_neighbors = i\n",
    "    # knr.fit(train_input,train_target)\n",
    "    v_score = knr.score(valid_input, valid_target)\n",
    "    v_lst.append(v_score)\n",
    "    \n",
    "plt.figure(figsize = (6,6))\n",
    "plt.plot(range(1,70), v_lst)\n",
    "plt.ylim(0.97,0.978)\n",
    "plt.show()\n",
    "print(f\"maximum score : {max(v_lst)}\")\n",
    "print(f\"maximum n_neighbors value : {v_lst.index(max(v_lst)) + 1}\" )"
   ]
  },
  {
   "cell_type": "markdown",
   "id": "4129bfad",
   "metadata": {
    "id": "4129bfad"
   },
   "source": [
    "mae와 mse구해보기"
   ]
  },
  {
   "cell_type": "code",
   "execution_count": null,
   "id": "c21153b6",
   "metadata": {
    "colab": {
     "base_uri": "https://localhost:8080/"
    },
    "id": "cd28030f",
    "outputId": "72089351-56e6-4891-9cfe-cb462275dcb2"
   },
   "outputs": [],
   "source": [
    "from sklearn.metrics import mean_squared_error\n",
    "from sklearn.metrics import mean_absolute_error\n",
    "\n",
    "#mae 구하기\n",
    "test_prediction = knr.predict(test_input)\n",
    "mae = mean_absolute_error(test_target, test_prediction)\n",
    "print(f\"mae = {mae}\")\n",
    "#mse 구하기\n",
    "mse = mean_squared_error(test_target,test_prediction)\n",
    "print(f\"mse = {mse}\")\n"
   ]
  },
  {
   "cell_type": "markdown",
   "id": "611c655f",
   "metadata": {
    "id": "611c655f"
   },
   "source": [
    "## 3-2 선형회귀\n",
    "length를 활용해 Whole weight를 예측해보기"
   ]
  },
  {
   "cell_type": "markdown",
   "id": "1b19710c",
   "metadata": {
    "id": "1b19710c"
   },
   "source": [
    "length와 Whole weight 간의 경향성 파악"
   ]
  },
  {
   "cell_type": "code",
   "execution_count": 28,
   "id": "96821679",
   "metadata": {
    "colab": {
     "base_uri": "https://localhost:8080/",
     "height": 265
    },
    "id": "96821679",
    "outputId": "fe9ad707-e07e-4d14-bbfe-f7270175a1eb"
   },
   "outputs": [
    {
     "data": {
      "image/png": "[encoded data removed]",
      "text/plain": [
       "<Figure size 432x288 with 1 Axes>"
      ]
     },
     "metadata": {
      "needs_background": "light"
     },
     "output_type": "display_data"
    }
   ],
   "source": [
    "x = abalone_removed[\"Length\"]\n",
    "y = abalone_removed[\"Whole weight\"]\n",
    "plt.scatter(x,y)\n",
    "plt.show()"
   ]
  },
  {
   "cell_type": "markdown",
   "id": "e1c160da",
   "metadata": {
    "id": "e1c160da"
   },
   "source": [
    "### 1) abalone_removed에서 독립변수는 \"Length\", 종속변수는 \"Whole weight\"를 추출해서\n",
    "### train set, test set을 나눈 뒤(random_state = 5)\n",
    "### 2차원으로 바꿔서 train_input과 test_input에 저장하세요"
   ]
  },
  {
   "cell_type": "code",
   "execution_count": 32,
   "id": "40c39924",
   "metadata": {
    "id": "40c39924"
   },
   "outputs": [],
   "source": [
    "from sklearn.model_selection import train_test_split\n",
    "\n",
    "train_input, test_input, train_target, test_target =\\\n",
    "    train_test_split(abalone_removed['Length'], abalone_removed['Whole weight'], random_state = 5)\n",
    "\n",
    "train_input = np.array(train_input)[:, np.newaxis]\n",
    "test_input = np.array(test_input)[:, np.newaxis]"
   ]
  },
  {
   "cell_type": "markdown",
   "id": "c77c1d47",
   "metadata": {
    "id": "c77c1d47"
   },
   "source": [
    "KNeighborsRegressr을 활용해<br>\n",
    "length가 0.8일 때와 1.5일 때 값을 비교"
   ]
  },
  {
   "cell_type": "code",
   "execution_count": 33,
   "id": "3e910dd2",
   "metadata": {
    "colab": {
     "base_uri": "https://localhost:8080/"
    },
    "id": "3e910dd2",
    "outputId": "5d87ea7d-b17c-4522-f9ef-53a6a7e9c6a0"
   },
   "outputs": [
    {
     "name": "stdout",
     "output_type": "stream",
     "text": [
      "[1.9268]\n",
      "[1.9268]\n"
     ]
    }
   ],
   "source": [
    "from sklearn.neighbors import KNeighborsRegressor\n",
    "\n",
    "knr = KNeighborsRegressor()\n",
    "knr.fit(train_input, train_target)\n",
    "\n",
    "print(knr.predict([[0.8]]))\n",
    "print(knr.predict([[1.5]]))"
   ]
  },
  {
   "cell_type": "markdown",
   "id": "127b1f5b",
   "metadata": {
    "id": "127b1f5b"
   },
   "source": [
    "### 2) LinearRegression()객체를 생성해 lr에 저장하고,<br>\n",
    "### train set으로 학습시킨 후,<br>\n",
    "### train set과 test set에 대한 스코어를 train_score와 test_socre에 저장하세요"
   ]
  },
  {
   "cell_type": "code",
   "execution_count": 34,
   "id": "0ff3e75f",
   "metadata": {
    "colab": {
     "base_uri": "https://localhost:8080/"
    },
    "id": "0ff3e75f",
    "outputId": "a88d5882-255c-4f38-fdc6-5841559f9539"
   },
   "outputs": [
    {
     "name": "stdout",
     "output_type": "stream",
     "text": [
      "length=0.8 -> [1.82295032]\n",
      "length=1.5 -> [4.38420097]\n",
      "\n",
      "train_score : 0.875\n",
      "test_score  : 0.855\n",
      "\n",
      "[3.6589295] -1.104193283177911\n"
     ]
    }
   ],
   "source": [
    "from sklearn.linear_model import LinearRegression\n",
    "\n",
    "lr = LinearRegression()\n",
    "lr.fit(train_input, train_target)\n",
    "\n",
    "print(\"length=0.8 ->\",lr.predict([[0.8]]))\n",
    "print(\"length=1.5 ->\",lr.predict([[1.5]]))\n",
    "print()\n",
    "\n",
    "train_score = lr.score(train_input, train_target)\n",
    "test_score = lr.score(test_input, test_target)\n",
    "\n",
    "print(f\"train_score : {train_score.round(3)}\")\n",
    "print(f\"test_score  : {test_score.round(3)}\")\n",
    "print()\n",
    "\n",
    "print(lr.coef_, lr.intercept_)"
   ]
  },
  {
   "cell_type": "markdown",
   "id": "0d1653fd",
   "metadata": {
    "id": "0d1653fd"
   },
   "source": [
    "흠... 그런데 스코어가 좋지 않다? -> 자료가 완전 직선이 아니구나!"
   ]
  },
  {
   "cell_type": "code",
   "execution_count": 35,
   "id": "33cf640a",
   "metadata": {
    "colab": {
     "base_uri": "https://localhost:8080/",
     "height": 265
    },
    "id": "33cf640a",
    "outputId": "682dad66-82c9-4eb0-be69-8317b155489e"
   },
   "outputs": [
    {
     "data": {
      "image/png": "[encoded data removed]",
      "text/plain": [
       "<Figure size 432x288 with 1 Axes>"
      ]
     },
     "metadata": {
      "needs_background": "light"
     },
     "output_type": "display_data"
    }
   ],
   "source": [
    "point = np.arange(0.1,0.9,0.01)\n",
    "plt.scatter(train_input,train_target)\n",
    "plt.plot(point, lr.predict(point.reshape(-1,1)))\n",
    "# plt.plot(point, lr.coef_*point + lr.intercept_)\n",
    "\n",
    "plt.show()"
   ]
  },
  {
   "cell_type": "markdown",
   "id": "6b7fccdb",
   "metadata": {
    "id": "6b7fccdb"
   },
   "source": [
    "### 3) 다항회귀를 활용해 문제 해결해보자<br>\n",
    "열벡터 train_input**2과 train_input을 만든 뒤 \n",
    "train_poly에 2차원 형식으로 저장하세요\n",
    "\n",
    "열벡터 test_input**2과 test_input을 만든 뒤 \n",
    "test_poly에 2차원 형식으로 저장하세요\n",
    "\n",
    "<br><br>\n",
    "교재에는 np.column_stack()이지만 np.hstack()도 가능"
   ]
  },
  {
   "cell_type": "code",
   "execution_count": 38,
   "id": "57f1757f",
   "metadata": {
    "id": "57f1757f"
   },
   "outputs": [
    {
     "data": {
      "text/plain": [
       "array([[0.3969  , 0.63    ],\n",
       "       [0.1296  , 0.36    ],\n",
       "       [0.3721  , 0.61    ],\n",
       "       ...,\n",
       "       [0.455625, 0.675   ],\n",
       "       [0.0324  , 0.18    ],\n",
       "       [0.354025, 0.595   ]])"
      ]
     },
     "execution_count": 38,
     "metadata": {},
     "output_type": "execute_result"
    }
   ],
   "source": [
    "train_poly = np.hstack((train_input**2, train_input))\n",
    "test_poly = np.hstack((test_input**2, test_input))\n",
    "\n",
    "train_poly"
   ]
  },
  {
   "cell_type": "markdown",
   "id": "e08lLFykYJJO",
   "metadata": {
    "id": "e08lLFykYJJO"
   },
   "source": []
  },
  {
   "cell_type": "markdown",
   "id": "jVZkwgc7Zwfe",
   "metadata": {
    "id": "jVZkwgc7Zwfe"
   },
   "source": [
    "### 4) LinearRegression()객체를 생성해 lr에 저장하고,<br>\n",
    "### train_poly와 train_target을 활용해 학습시킨 후,<br>\n",
    "### train_poly와 test_poly에 대한 스코어를 poly_train_score와 poly_test_socre에 저장하세요"
   ]
  },
  {
   "cell_type": "code",
   "execution_count": 39,
   "id": "xU8e9FfQWnJb",
   "metadata": {
    "colab": {
     "base_uri": "https://localhost:8080/"
    },
    "id": "xU8e9FfQWnJb",
    "outputId": "af2bac75-3491-44fd-920c-c9badfd0e973"
   },
   "outputs": [
    {
     "name": "stdout",
     "output_type": "stream",
     "text": [
      "[ 6.6059924  -2.73049606] 0.34319822936749333\n",
      "train score vs poly train score : 0.875 vs 0.935\n",
      "test score  vs poly test score  : 0.855 vs 0.933\n"
     ]
    }
   ],
   "source": [
    "lr = LinearRegression()\n",
    "lr.fit(train_poly, train_target)\n",
    "\n",
    "poly_train_score = lr.score(train_poly, train_target)\n",
    "\n",
    "poly_test_score = lr.score(test_poly, test_target)\n",
    "\n",
    "print(lr.coef_, lr.intercept_)\n",
    "\n",
    "print(f\"train score vs poly train score : \\\n",
    "{train_score.round(3)} vs {poly_train_score.round(3)}\")\n",
    "\n",
    "print(f\"test score  vs poly test score  : \\\n",
    "{test_score.round(3)} vs {poly_test_score.round(3)}\")\n",
    "\n",
    "#스코어가 확실히 상승한 걸 알 수 있다!!"
   ]
  },
  {
   "cell_type": "markdown",
   "id": "b87e0308",
   "metadata": {
    "id": "b87e0308"
   },
   "source": [
    "그래프로 표현하기"
   ]
  },
  {
   "cell_type": "code",
   "execution_count": 40,
   "id": "2136dcae",
   "metadata": {
    "colab": {
     "base_uri": "https://localhost:8080/",
     "height": 265
    },
    "id": "2136dcae",
    "outputId": "e2d0a6fa-4f4f-4cc3-c3c2-674983c2e672"
   },
   "outputs": [
    {
     "data": {
      "image/png": "[encoded data removed]",
      "text/plain": [
       "<Figure size 432x288 with 1 Axes>"
      ]
     },
     "metadata": {
      "needs_background": "light"
     },
     "output_type": "display_data"
    }
   ],
   "source": [
    "point = np.arange(0,0.9,0.01)\n",
    "point_poly = np.column_stack((point**2,point))\n",
    "\n",
    "plt.scatter(train_input, train_target)\n",
    "plt.plot(point, lr.predict( point_poly ), c =\"c\")\n",
    "# plt.plot(point,7.25*point**2 - 3.26*point + 0.44, c =\"c\")\n",
    "\n",
    "plt.show()\n",
    "\n"
   ]
  },
  {
   "cell_type": "markdown",
   "id": "ccd4159f",
   "metadata": {
    "id": "ccd4159f"
   },
   "source": [
    "### + 경사하강법"
   ]
  },
  {
   "cell_type": "code",
   "execution_count": 41,
   "id": "ff091f72",
   "metadata": {
    "colab": {
     "base_uri": "https://localhost:8080/",
     "height": 265
    },
    "id": "ff091f72",
    "outputId": "697ce187-9269-4bba-e3a8-b3608aace37c",
    "scrolled": true
   },
   "outputs": [
    {
     "data": {
      "image/png": "[encoded data removed]",
      "text/plain": [
       "<Figure size 432x288 with 1 Axes>"
      ]
     },
     "metadata": {
      "needs_background": "light"
     },
     "output_type": "display_data"
    }
   ],
   "source": [
    "np.random.seed(5)\n",
    "X = np.random.rand(100)\n",
    "Y = 0.2*X +0.5\n",
    "\n",
    "plt.scatter(X,Y)\n",
    "plt.show()\n"
   ]
  },
  {
   "cell_type": "code",
   "execution_count": 42,
   "id": "baeedaf3",
   "metadata": {
    "colab": {
     "base_uri": "https://localhost:8080/",
     "height": 1000
    },
    "id": "baeedaf3",
    "outputId": "3433eccc-eb01-4c44-a895-c448320df3ee"
   },
   "outputs": [
    {
     "name": "stdout",
     "output_type": "stream",
     "text": [
      "0\n"
     ]
    },
    {
     "data": {
      "image/png": "[encoded data removed]",
      "text/plain": [
       "<Figure size 432x288 with 1 Axes>"
      ]
     },
     "metadata": {
      "needs_background": "light"
     },
     "output_type": "display_data"
    },
    {
     "name": "stdout",
     "output_type": "stream",
     "text": [
      "5\n"
     ]
    },
    {
     "data": {
      "image/png": "[encoded data removed]",
      "text/plain": [
       "<Figure size 432x288 with 1 Axes>"
      ]
     },
     "metadata": {
      "needs_background": "light"
     },
     "output_type": "display_data"
    },
    {
     "name": "stdout",
     "output_type": "stream",
     "text": [
      "10\n"
     ]
    },
    {
     "data": {
      "image/png": "[encoded data removed]",
      "text/plain": [
       "<Figure size 432x288 with 1 Axes>"
      ]
     },
     "metadata": {
      "needs_background": "light"
     },
     "output_type": "display_data"
    },
    {
     "name": "stdout",
     "output_type": "stream",
     "text": [
      "15\n"
     ]
    },
    {
     "data": {
      "image/png": "[encoded data removed]",
      "text/plain": [
       "<Figure size 432x288 with 1 Axes>"
      ]
     },
     "metadata": {
      "needs_background": "light"
     },
     "output_type": "display_data"
    },
    {
     "name": "stdout",
     "output_type": "stream",
     "text": [
      "20\n"
     ]
    },
    {
     "data": {
      "image/png": "[encoded data removed]",
      "text/plain": [
       "<Figure size 432x288 with 1 Axes>"
      ]
     },
     "metadata": {
      "needs_background": "light"
     },
     "output_type": "display_data"
    },
    {
     "name": "stdout",
     "output_type": "stream",
     "text": [
      "25\n"
     ]
    },
    {
     "data": {
      "image/png": "[encoded data removed]",
      "text/plain": [
       "<Figure size 432x288 with 1 Axes>"
      ]
     },
     "metadata": {
      "needs_background": "light"
     },
     "output_type": "display_data"
    },
    {
     "name": "stdout",
     "output_type": "stream",
     "text": [
      "30\n"
     ]
    },
    {
     "data": {
      "image/png": "[encoded data removed]",
      "text/plain": [
       "<Figure size 432x288 with 1 Axes>"
      ]
     },
     "metadata": {
      "needs_background": "light"
     },
     "output_type": "display_data"
    },
    {
     "name": "stdout",
     "output_type": "stream",
     "text": [
      "35\n"
     ]
    },
    {
     "data": {
      "image/png": "[encoded data removed]",
      "text/plain": [
       "<Figure size 432x288 with 1 Axes>"
      ]
     },
     "metadata": {
      "needs_background": "light"
     },
     "output_type": "display_data"
    },
    {
     "name": "stdout",
     "output_type": "stream",
     "text": [
      "40\n"
     ]
    },
    {
     "data": {
      "image/png": "[encoded data removed]",
      "text/plain": [
       "<Figure size 432x288 with 1 Axes>"
      ]
     },
     "metadata": {
      "needs_background": "light"
     },
     "output_type": "display_data"
    },
    {
     "name": "stdout",
     "output_type": "stream",
     "text": [
      "45\n"
     ]
    },
    {
     "data": {
      "image/png": "[encoded data removed]",
      "text/plain": [
       "<Figure size 432x288 with 1 Axes>"
      ]
     },
     "metadata": {
      "needs_background": "light"
     },
     "output_type": "display_data"
    },
    {
     "name": "stdout",
     "output_type": "stream",
     "text": [
      "50\n"
     ]
    },
    {
     "data": {
      "image/png": "[encoded data removed]",
      "text/plain": [
       "<Figure size 432x288 with 1 Axes>"
      ]
     },
     "metadata": {
      "needs_background": "light"
     },
     "output_type": "display_data"
    },
    {
     "name": "stdout",
     "output_type": "stream",
     "text": [
      "55\n"
     ]
    },
    {
     "data": {
      "image/png": "[encoded data removed]",
      "text/plain": [
       "<Figure size 432x288 with 1 Axes>"
      ]
     },
     "metadata": {
      "needs_background": "light"
     },
     "output_type": "display_data"
    },
    {
     "name": "stdout",
     "output_type": "stream",
     "text": [
      "60\n"
     ]
    },
    {
     "data": {
      "image/png": "[encoded data removed]",
      "text/plain": [
       "<Figure size 432x288 with 1 Axes>"
      ]
     },
     "metadata": {
      "needs_background": "light"
     },
     "output_type": "display_data"
    },
    {
     "name": "stdout",
     "output_type": "stream",
     "text": [
      "65\n"
     ]
    },
    {
     "data": {
      "image/png": "[encoded data removed]",
      "text/plain": [
       "<Figure size 432x288 with 1 Axes>"
      ]
     },
     "metadata": {
      "needs_background": "light"
     },
     "output_type": "display_data"
    },
    {
     "name": "stdout",
     "output_type": "stream",
     "text": [
      "70\n"
     ]
    },
    {
     "data": {
      "image/png": "[encoded data removed]",
      "text/plain": [
       "<Figure size 432x288 with 1 Axes>"
      ]
     },
     "metadata": {
      "needs_background": "light"
     },
     "output_type": "display_data"
    },
    {
     "name": "stdout",
     "output_type": "stream",
     "text": [
      "75\n"
     ]
    },
    {
     "data": {
      "image/png": "[encoded data removed]",
      "text/plain": [
       "<Figure size 432x288 with 1 Axes>"
      ]
     },
     "metadata": {
      "needs_background": "light"
     },
     "output_type": "display_data"
    },
    {
     "name": "stdout",
     "output_type": "stream",
     "text": [
      "80\n"
     ]
    },
    {
     "data": {
      "image/png": "[encoded data removed]",
      "text/plain": [
       "<Figure size 432x288 with 1 Axes>"
      ]
     },
     "metadata": {
      "needs_background": "light"
     },
     "output_type": "display_data"
    },
    {
     "name": "stdout",
     "output_type": "stream",
     "text": [
      "85\n"
     ]
    },
    {
     "data": {
      "image/png": "[encoded data removed]",
      "text/plain": [
       "<Figure size 432x288 with 1 Axes>"
      ]
     },
     "metadata": {
      "needs_background": "light"
     },
     "output_type": "display_data"
    }
   ],
   "source": [
    "from sklearn.metrics import mean_squared_error\n",
    "\n",
    "#그래프를 그리는 함수\n",
    "def plot_prediction(pred, Y):\n",
    "    plt.figure()\n",
    "    plt.scatter(X,Y, c = \"b\")\n",
    "    plt.scatter(X,pred, c = \"r\")\n",
    "    plt.show()\n",
    "\n",
    "# Y_Hat = W * X + b에서 랜덤하게 W,b 값을 설정\n",
    "W = np.random.uniform(-1,1)\n",
    "b = np.random.uniform(-1,1)\n",
    "learning_rate = 0.6 #임의로 지정\n",
    "\n",
    "for epoch in range(100): # 100번 반복 학습\n",
    "    Y_pred = W*X + b #Y의 예측값\n",
    "    \n",
    "    error = mean_squared_error(Y_pred, Y)\n",
    "# 비용함수로 mse이용\n",
    "# error = (Y_pred - Y)**2.mean()\n",
    "# error = (Y_pred - Y)**2.sum() / len(Y)\n",
    "\n",
    "    #오차가 아주 작은 값이 되면 갱신을 멈춤\n",
    "    if error < 0.00001: \n",
    "        break\n",
    "    \n",
    "    #gradien_descent 계산\n",
    "    w_grad = learning_rate * ((Y_pred-Y)*X).mean()\n",
    "    b_grad = learning_rate * (Y_pred-Y).mean()\n",
    "    \n",
    "    #W, b 값 갱신\n",
    "    W = W - w_grad\n",
    "    b = b - b_grad\n",
    "    \n",
    "    #실측값과 예측값이 얼마나 근사해지는 지 표현\n",
    "    # epoch % 5 == 0이 될 때마다 그래프 그림\n",
    "    if epoch % 5 == 0:\n",
    "        Y_pred = W*X + b\n",
    "        print(epoch)\n",
    "        plot_prediction(Y_pred, Y)\n",
    "    \n"
   ]
  }
 ],
 "metadata": {
  "colab": {
   "collapsed_sections": [],
   "name": "1조 발표 실습.ipynb",
   "provenance": []
  },
  "kernelspec": {
   "display_name": "Python 3 (ipykernel)",
   "language": "python",
   "name": "python3"
  },
  "language_info": {
   "codemirror_mode": {
    "name": "ipython",
    "version": 3
   },
   "file_extension": ".py",
   "mimetype": "text/x-python",
   "name": "python",
   "nbconvert_exporter": "python",
   "pygments_lexer": "ipython3",
   "version": "3.9.7"
  }
 },
 "nbformat": 4,
 "nbformat_minor": 5
}
