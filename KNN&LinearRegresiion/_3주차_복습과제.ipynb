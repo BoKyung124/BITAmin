{
 "cells": [
  {
   "cell_type": "code",
   "execution_count": 1,
   "id": "bf6f1b80",
   "metadata": {
    "id": "bf6f1b80"
   },
   "outputs": [],
   "source": [
    "import pandas as pd\n",
    "import numpy as np\n",
    "import seaborn as sns\n",
    "import matplotlib.pyplot as plt"
   ]
  },
  {
   "cell_type": "markdown",
   "id": "2bb0dcc6",
   "metadata": {
    "id": "2bb0dcc6"
   },
   "source": [
    "Credit.csv 출처<br>\n",
    "https://www.kaggle.com/ishaanv/ISLR-Auto/version/1?select=Credit.csv\n"
   ]
  },
  {
   "cell_type": "markdown",
   "id": "c819e1ec",
   "metadata": {
    "id": "c819e1ec"
   },
   "source": [
    "# Part 1. K-최근접 이웃 회귀\n",
    "\n",
    "knn으로 limit을 활용해 balance를 예측"
   ]
  },
  {
   "cell_type": "markdown",
   "id": "41b45dbc",
   "metadata": {
    "id": "41b45dbc"
   },
   "source": [
    "\n",
    "### [1-1]\n",
    "\n",
    "pd.read_csv를 활용해 Credit.csv를 첫번째 열이 인덱스가 되도록 credit 변수에 저장하세요"
   ]
  },
  {
   "cell_type": "code",
   "execution_count": 4,
   "id": "54e4b350",
   "metadata": {
    "colab": {
     "base_uri": "https://localhost:8080/",
     "height": 266,
     "resources": {
      "http://localhost:8080/nbextensions/google.colab/files.js": {
       "data": "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",
       "headers": [
        [
         "content-type",
         "application/javascript"
        ]
       ],
       "ok": true,
       "status": 200,
       "status_text": ""
      }
     }
    },
    "id": "54e4b350",
    "outputId": "fcb0a011-2a68-4b3a-af06-0449b33d7bc8"
   },
   "outputs": [
    {
     "data": {
      "text/html": [
       "<div>\n",
       "<style scoped>\n",
       "    .dataframe tbody tr th:only-of-type {\n",
       "        vertical-align: middle;\n",
       "    }\n",
       "\n",
       "    .dataframe tbody tr th {\n",
       "        vertical-align: top;\n",
       "    }\n",
       "\n",
       "    .dataframe thead th {\n",
       "        text-align: right;\n",
       "    }\n",
       "</style>\n",
       "<table border=\"1\" class=\"dataframe\">\n",
       "  <thead>\n",
       "    <tr style=\"text-align: right;\">\n",
       "      <th></th>\n",
       "      <th>Income</th>\n",
       "      <th>Limit</th>\n",
       "      <th>Rating</th>\n",
       "      <th>Cards</th>\n",
       "      <th>Age</th>\n",
       "      <th>Education</th>\n",
       "      <th>Gender</th>\n",
       "      <th>Student</th>\n",
       "      <th>Married</th>\n",
       "      <th>Ethnicity</th>\n",
       "      <th>Balance</th>\n",
       "    </tr>\n",
       "  </thead>\n",
       "  <tbody>\n",
       "    <tr>\n",
       "      <th>1</th>\n",
       "      <td>14.891</td>\n",
       "      <td>3606</td>\n",
       "      <td>283</td>\n",
       "      <td>2</td>\n",
       "      <td>34</td>\n",
       "      <td>11</td>\n",
       "      <td>Male</td>\n",
       "      <td>No</td>\n",
       "      <td>Yes</td>\n",
       "      <td>Caucasian</td>\n",
       "      <td>333</td>\n",
       "    </tr>\n",
       "    <tr>\n",
       "      <th>2</th>\n",
       "      <td>106.025</td>\n",
       "      <td>6645</td>\n",
       "      <td>483</td>\n",
       "      <td>3</td>\n",
       "      <td>82</td>\n",
       "      <td>15</td>\n",
       "      <td>Female</td>\n",
       "      <td>Yes</td>\n",
       "      <td>Yes</td>\n",
       "      <td>Asian</td>\n",
       "      <td>903</td>\n",
       "    </tr>\n",
       "    <tr>\n",
       "      <th>3</th>\n",
       "      <td>104.593</td>\n",
       "      <td>7075</td>\n",
       "      <td>514</td>\n",
       "      <td>4</td>\n",
       "      <td>71</td>\n",
       "      <td>11</td>\n",
       "      <td>Male</td>\n",
       "      <td>No</td>\n",
       "      <td>No</td>\n",
       "      <td>Asian</td>\n",
       "      <td>580</td>\n",
       "    </tr>\n",
       "    <tr>\n",
       "      <th>4</th>\n",
       "      <td>148.924</td>\n",
       "      <td>9504</td>\n",
       "      <td>681</td>\n",
       "      <td>3</td>\n",
       "      <td>36</td>\n",
       "      <td>11</td>\n",
       "      <td>Female</td>\n",
       "      <td>No</td>\n",
       "      <td>No</td>\n",
       "      <td>Asian</td>\n",
       "      <td>964</td>\n",
       "    </tr>\n",
       "    <tr>\n",
       "      <th>5</th>\n",
       "      <td>55.882</td>\n",
       "      <td>4897</td>\n",
       "      <td>357</td>\n",
       "      <td>2</td>\n",
       "      <td>68</td>\n",
       "      <td>16</td>\n",
       "      <td>Male</td>\n",
       "      <td>No</td>\n",
       "      <td>Yes</td>\n",
       "      <td>Caucasian</td>\n",
       "      <td>331</td>\n",
       "    </tr>\n",
       "  </tbody>\n",
       "</table>\n",
       "</div>"
      ],
      "text/plain": [
       "    Income  Limit  Rating  Cards  Age  Education  Gender Student Married  \\\n",
       "1   14.891   3606     283      2   34         11    Male      No     Yes   \n",
       "2  106.025   6645     483      3   82         15  Female     Yes     Yes   \n",
       "3  104.593   7075     514      4   71         11    Male      No      No   \n",
       "4  148.924   9504     681      3   36         11  Female      No      No   \n",
       "5   55.882   4897     357      2   68         16    Male      No     Yes   \n",
       "\n",
       "   Ethnicity  Balance  \n",
       "1  Caucasian      333  \n",
       "2      Asian      903  \n",
       "3      Asian      580  \n",
       "4      Asian      964  \n",
       "5  Caucasian      331  "
      ]
     },
     "execution_count": 4,
     "metadata": {},
     "output_type": "execute_result"
    }
   ],
   "source": [
    "credit = pd.read_csv('Credit.csv', index_col = 0) \n",
    "credit.head()"
   ]
  },
  {
   "cell_type": "markdown",
   "id": "99930b27",
   "metadata": {
    "id": "99930b27"
   },
   "source": [
    "### [1-2]\n",
    "\n",
    "credit에서 필요 없는 열인 Cards,Gender,Student,Married,Ethnicity를 제거해 credit_c에 저장하세요"
   ]
  },
  {
   "cell_type": "code",
   "execution_count": 5,
   "id": "7445d479",
   "metadata": {
    "colab": {
     "base_uri": "https://localhost:8080/",
     "height": 423
    },
    "id": "7445d479",
    "outputId": "49477556-544c-4407-f462-43f0f6f49bf4"
   },
   "outputs": [
    {
     "data": {
      "text/html": [
       "<div>\n",
       "<style scoped>\n",
       "    .dataframe tbody tr th:only-of-type {\n",
       "        vertical-align: middle;\n",
       "    }\n",
       "\n",
       "    .dataframe tbody tr th {\n",
       "        vertical-align: top;\n",
       "    }\n",
       "\n",
       "    .dataframe thead th {\n",
       "        text-align: right;\n",
       "    }\n",
       "</style>\n",
       "<table border=\"1\" class=\"dataframe\">\n",
       "  <thead>\n",
       "    <tr style=\"text-align: right;\">\n",
       "      <th></th>\n",
       "      <th>Income</th>\n",
       "      <th>Limit</th>\n",
       "      <th>Rating</th>\n",
       "      <th>Age</th>\n",
       "      <th>Education</th>\n",
       "      <th>Balance</th>\n",
       "    </tr>\n",
       "  </thead>\n",
       "  <tbody>\n",
       "    <tr>\n",
       "      <th>1</th>\n",
       "      <td>14.891</td>\n",
       "      <td>3606</td>\n",
       "      <td>283</td>\n",
       "      <td>34</td>\n",
       "      <td>11</td>\n",
       "      <td>333</td>\n",
       "    </tr>\n",
       "    <tr>\n",
       "      <th>2</th>\n",
       "      <td>106.025</td>\n",
       "      <td>6645</td>\n",
       "      <td>483</td>\n",
       "      <td>82</td>\n",
       "      <td>15</td>\n",
       "      <td>903</td>\n",
       "    </tr>\n",
       "    <tr>\n",
       "      <th>3</th>\n",
       "      <td>104.593</td>\n",
       "      <td>7075</td>\n",
       "      <td>514</td>\n",
       "      <td>71</td>\n",
       "      <td>11</td>\n",
       "      <td>580</td>\n",
       "    </tr>\n",
       "    <tr>\n",
       "      <th>4</th>\n",
       "      <td>148.924</td>\n",
       "      <td>9504</td>\n",
       "      <td>681</td>\n",
       "      <td>36</td>\n",
       "      <td>11</td>\n",
       "      <td>964</td>\n",
       "    </tr>\n",
       "    <tr>\n",
       "      <th>5</th>\n",
       "      <td>55.882</td>\n",
       "      <td>4897</td>\n",
       "      <td>357</td>\n",
       "      <td>68</td>\n",
       "      <td>16</td>\n",
       "      <td>331</td>\n",
       "    </tr>\n",
       "    <tr>\n",
       "      <th>...</th>\n",
       "      <td>...</td>\n",
       "      <td>...</td>\n",
       "      <td>...</td>\n",
       "      <td>...</td>\n",
       "      <td>...</td>\n",
       "      <td>...</td>\n",
       "    </tr>\n",
       "    <tr>\n",
       "      <th>396</th>\n",
       "      <td>12.096</td>\n",
       "      <td>4100</td>\n",
       "      <td>307</td>\n",
       "      <td>32</td>\n",
       "      <td>13</td>\n",
       "      <td>560</td>\n",
       "    </tr>\n",
       "    <tr>\n",
       "      <th>397</th>\n",
       "      <td>13.364</td>\n",
       "      <td>3838</td>\n",
       "      <td>296</td>\n",
       "      <td>65</td>\n",
       "      <td>17</td>\n",
       "      <td>480</td>\n",
       "    </tr>\n",
       "    <tr>\n",
       "      <th>398</th>\n",
       "      <td>57.872</td>\n",
       "      <td>4171</td>\n",
       "      <td>321</td>\n",
       "      <td>67</td>\n",
       "      <td>12</td>\n",
       "      <td>138</td>\n",
       "    </tr>\n",
       "    <tr>\n",
       "      <th>399</th>\n",
       "      <td>37.728</td>\n",
       "      <td>2525</td>\n",
       "      <td>192</td>\n",
       "      <td>44</td>\n",
       "      <td>13</td>\n",
       "      <td>0</td>\n",
       "    </tr>\n",
       "    <tr>\n",
       "      <th>400</th>\n",
       "      <td>18.701</td>\n",
       "      <td>5524</td>\n",
       "      <td>415</td>\n",
       "      <td>64</td>\n",
       "      <td>7</td>\n",
       "      <td>966</td>\n",
       "    </tr>\n",
       "  </tbody>\n",
       "</table>\n",
       "<p>400 rows × 6 columns</p>\n",
       "</div>"
      ],
      "text/plain": [
       "      Income  Limit  Rating  Age  Education  Balance\n",
       "1     14.891   3606     283   34         11      333\n",
       "2    106.025   6645     483   82         15      903\n",
       "3    104.593   7075     514   71         11      580\n",
       "4    148.924   9504     681   36         11      964\n",
       "5     55.882   4897     357   68         16      331\n",
       "..       ...    ...     ...  ...        ...      ...\n",
       "396   12.096   4100     307   32         13      560\n",
       "397   13.364   3838     296   65         17      480\n",
       "398   57.872   4171     321   67         12      138\n",
       "399   37.728   2525     192   44         13        0\n",
       "400   18.701   5524     415   64          7      966\n",
       "\n",
       "[400 rows x 6 columns]"
      ]
     },
     "execution_count": 5,
     "metadata": {},
     "output_type": "execute_result"
    }
   ],
   "source": [
    "credit_c = credit.drop(['Cards', 'Gender', 'Student', 'Married', 'Ethnicity'], axis = 1)\n",
    "credit_c"
   ]
  },
  {
   "cell_type": "code",
   "execution_count": 6,
   "id": "5ff9647e",
   "metadata": {
    "colab": {
     "base_uri": "https://localhost:8080/",
     "height": 279
    },
    "id": "5ff9647e",
    "outputId": "ec5bb3bf-29fc-4fbc-dd77-09d3507f4f12"
   },
   "outputs": [
    {
     "data": {
      "image/png": "[encoded data removed]",
      "text/plain": [
       "<Figure size 432x288 with 1 Axes>"
      ]
     },
     "metadata": {
      "needs_background": "light"
     },
     "output_type": "display_data"
    }
   ],
   "source": [
    "#데이터 분포 확인\n",
    "import matplotlib.pyplot as plt\n",
    "rating = credit_c[\"Rating\"]\n",
    "limit = credit_c[\"Limit\"]\n",
    "\n",
    "plt.scatter(rating,limit)\n",
    "plt.xlabel(\"rate\")\n",
    "plt.ylabel(\"limit\")\n",
    "\n",
    "plt.show()"
   ]
  },
  {
   "cell_type": "markdown",
   "id": "2e7af072",
   "metadata": {
    "id": "2e7af072"
   },
   "source": [
    "### [1-3]\n",
    "\n",
    "credit_c에서 Rating열과 Limit열을 각각 rating과 limit변수에 저장하세요"
   ]
  },
  {
   "cell_type": "code",
   "execution_count": 7,
   "id": "995d560d",
   "metadata": {
    "id": "995d560d"
   },
   "outputs": [],
   "source": [
    "rating = credit_c['Rating']\n",
    "limit = credit_c['Limit']"
   ]
  },
  {
   "cell_type": "markdown",
   "id": "2f7f89ae",
   "metadata": {
    "id": "2f7f89ae"
   },
   "source": [
    "### [1-4]\n",
    "\n",
    "독립변수는 rating, 종속변수는 limit이 되도록 하여 train_input, test_input, train_target, test_target을 분리하세요.<br><br>\n",
    "<조건> train_test_split 매서드를 활용해 random_state는 5로 하고,<br>\n",
    "train_input과 test_input의 비율이 7대3이 되도록 train_input과 test_input을 분리하기"
   ]
  },
  {
   "cell_type": "code",
   "execution_count": 11,
   "id": "9b4b67b8",
   "metadata": {
    "id": "9b4b67b8"
   },
   "outputs": [],
   "source": [
    "from sklearn.model_selection import train_test_split\n",
    "\n",
    "train_input, test_input, train_target, test_target =\\\n",
    "    train_test_split(rating, limit, test_size = 0.3, random_state = 5)"
   ]
  },
  {
   "cell_type": "code",
   "execution_count": 12,
   "id": "ea27c17d",
   "metadata": {},
   "outputs": [
    {
     "data": {
      "text/plain": [
       "(280,)"
      ]
     },
     "execution_count": 12,
     "metadata": {},
     "output_type": "execute_result"
    }
   ],
   "source": [
    "train_input.shape"
   ]
  },
  {
   "cell_type": "markdown",
   "id": "1cbaceb8",
   "metadata": {
    "id": "1cbaceb8"
   },
   "source": [
    "### [1-5]\n",
    "\n",
    "train_input과 test_input을 2차원의 열벡터로 변경해 각각 저장하세요"
   ]
  },
  {
   "cell_type": "code",
   "execution_count": 13,
   "id": "960ed0b0",
   "metadata": {
    "id": "960ed0b0"
   },
   "outputs": [],
   "source": [
    "train_input = np.array(train_input)[:, np.newaxis]\n",
    "test_input = np.array(test_input)[:, np.newaxis]"
   ]
  },
  {
   "cell_type": "markdown",
   "id": "4dc06004",
   "metadata": {
    "id": "4dc06004"
   },
   "source": [
    "### [1-6]\n",
    "\n",
    "train_input과 train_target을 활용해 k-최근접 이웃 회귀 모델을 훈련시키고, train set과 test set에 관한 결정계수를 각각 출력하세요\n",
    "\n"
   ]
  },
  {
   "cell_type": "code",
   "execution_count": 15,
   "id": "8d51059d",
   "metadata": {
    "colab": {
     "base_uri": "https://localhost:8080/"
    },
    "id": "8d51059d",
    "outputId": "e2cdcf06-2da0-47c3-a738-3e5eb6cde88a"
   },
   "outputs": [
    {
     "name": "stdout",
     "output_type": "stream",
     "text": [
      "0.9925183448136435\n",
      "0.9919222050652411\n"
     ]
    }
   ],
   "source": [
    "from sklearn.neighbors import KNeighborsRegressor\n",
    "\n",
    "knr = KNeighborsRegressor()\n",
    "knr.fit(train_input, train_target)\n",
    "\n",
    "print(knr.score(train_input,train_target))\n",
    "print(knr.score(test_input,test_target))"
   ]
  },
  {
   "cell_type": "markdown",
   "id": "3a62fb61",
   "metadata": {
    "id": "3a62fb61"
   },
   "source": [
    "### [1-7]\n",
    "\n",
    "sklearn.metrics 라이브러리에서 r2_score 매서드를 활용해 train set과 test set에 관한 결정계수를 각각 train_r2와 test_r2에 저장한 뒤, 각각 출력하세요"
   ]
  },
  {
   "cell_type": "code",
   "execution_count": 17,
   "id": "a20f9f6c",
   "metadata": {
    "colab": {
     "base_uri": "https://localhost:8080/"
    },
    "id": "a20f9f6c",
    "outputId": "4c8362f2-0297-498b-e387-98e1faa0c1ff"
   },
   "outputs": [
    {
     "name": "stdout",
     "output_type": "stream",
     "text": [
      "0.9925183448136435\n",
      "0.9919222050652411\n"
     ]
    }
   ],
   "source": [
    "from sklearn.metrics import r2_score\n",
    "\n",
    "train_r2 = r2_score(train_target, knr.predict(train_input))\n",
    "test_r2 = r2_score(test_target, knr.predict(test_input))\n",
    "\n",
    "print(train_r2)\n",
    "print(test_r2)"
   ]
  },
  {
   "cell_type": "markdown",
   "id": "2ba11bb8",
   "metadata": {
    "id": "2ba11bb8"
   },
   "source": [
    "# Part 2. 선형 회귀"
   ]
  },
  {
   "cell_type": "markdown",
   "id": "dd998d66",
   "metadata": {
    "id": "dd998d66"
   },
   "source": [
    "### [2-1]\n",
    "1) credit 전체에서 Rating열의 값이 700 미만인 행들만 추출해 credit_r에 저장하세요<br>\n",
    "2) credit_r의 각 행에 해당하는 index를 0부터 len(credit_r)-1까지의 정수로 갱신하세요\n"
   ]
  },
  {
   "cell_type": "code",
   "execution_count": 20,
   "id": "fc31d1a5",
   "metadata": {
    "id": "fc31d1a5",
    "scrolled": true
   },
   "outputs": [],
   "source": [
    "credit_r = credit[credit['Rating'] < 700]\n",
    "credit_r.index = np.arange(len(credit_r))"
   ]
  },
  {
   "cell_type": "markdown",
   "id": "ea72a71f",
   "metadata": {
    "id": "ea72a71f"
   },
   "source": [
    "### [2-2]\n",
    "\n",
    "1) credit_r에서 Balance열과 Rating열을 각각 balance, rating 변수에 저장하세요<br>\n",
    "2) matplotlib을 활용해 x축에 balance, y축에 rating 값이 오도록 scatterplot을 그리세요"
   ]
  },
  {
   "cell_type": "code",
   "execution_count": 21,
   "id": "342d5147",
   "metadata": {
    "colab": {
     "base_uri": "https://localhost:8080/",
     "height": 279
    },
    "id": "342d5147",
    "outputId": "ed1906ad-09e9-49fb-858e-a9075f45bbe3"
   },
   "outputs": [
    {
     "data": {
      "image/png": "[encoded data removed]",
      "text/plain": [
       "<Figure size 432x288 with 1 Axes>"
      ]
     },
     "metadata": {
      "needs_background": "light"
     },
     "output_type": "display_data"
    }
   ],
   "source": [
    "balance = credit_r['Balance']\n",
    "rating = credit_r['Rating']\n",
    "\n",
    "plt.scatter(balance, rating)\n",
    "plt.xlabel(\"balacne\")\n",
    "plt.ylabel(\"rating\")\n",
    "plt.show()"
   ]
  },
  {
   "cell_type": "markdown",
   "id": "0d16931e",
   "metadata": {
    "id": "0d16931e"
   },
   "source": [
    "### [2-3]\n",
    "\n",
    "1) StandardScaler 매서드를 활용해 balance와 rating을 정규화하세요\n",
    "\n",
    "2) 정규화한 값을 balace_scaled와 rating_scaled에 각각 저장하세요"
   ]
  },
  {
   "cell_type": "code",
   "execution_count": 23,
   "id": "6d911f72",
   "metadata": {
    "id": "6d911f72"
   },
   "outputs": [],
   "source": [
    "from sklearn.preprocessing import StandardScaler\n",
    "\n",
    "sscaler = StandardScaler()\n",
    "\n",
    "balance_scaled = sscaler.fit_transform(np.array(balance).reshape(-1, 1))\n",
    "rating_scaled = sscaler.fit_transform(np.array(rating).reshape(-1, 1))\n"
   ]
  },
  {
   "cell_type": "markdown",
   "id": "a5d671e2",
   "metadata": {
    "id": "a5d671e2"
   },
   "source": [
    "### [2-4]\n",
    "\n",
    "balance_scaled와 rating_scaled를 각각 열의 이름이 Balance와 Rating이 되도록 data라는 DataFrame에 저장하세요"
   ]
  },
  {
   "cell_type": "code",
   "execution_count": 26,
   "id": "5631e14c",
   "metadata": {
    "id": "5631e14c"
   },
   "outputs": [
    {
     "data": {
      "text/html": [
       "<div>\n",
       "<style scoped>\n",
       "    .dataframe tbody tr th:only-of-type {\n",
       "        vertical-align: middle;\n",
       "    }\n",
       "\n",
       "    .dataframe tbody tr th {\n",
       "        vertical-align: top;\n",
       "    }\n",
       "\n",
       "    .dataframe thead th {\n",
       "        text-align: right;\n",
       "    }\n",
       "</style>\n",
       "<table border=\"1\" class=\"dataframe\">\n",
       "  <thead>\n",
       "    <tr style=\"text-align: right;\">\n",
       "      <th></th>\n",
       "      <th>Balance</th>\n",
       "      <th>Rating</th>\n",
       "    </tr>\n",
       "  </thead>\n",
       "  <tbody>\n",
       "    <tr>\n",
       "      <th>0</th>\n",
       "      <td>-0.356298</td>\n",
       "      <td>-0.425944</td>\n",
       "    </tr>\n",
       "    <tr>\n",
       "      <th>1</th>\n",
       "      <td>0.994950</td>\n",
       "      <td>1.090304</td>\n",
       "    </tr>\n",
       "    <tr>\n",
       "      <th>2</th>\n",
       "      <td>0.229243</td>\n",
       "      <td>1.325322</td>\n",
       "    </tr>\n",
       "    <tr>\n",
       "      <th>3</th>\n",
       "      <td>1.139557</td>\n",
       "      <td>2.591389</td>\n",
       "    </tr>\n",
       "    <tr>\n",
       "      <th>4</th>\n",
       "      <td>-0.361039</td>\n",
       "      <td>0.135068</td>\n",
       "    </tr>\n",
       "    <tr>\n",
       "      <th>...</th>\n",
       "      <td>...</td>\n",
       "      <td>...</td>\n",
       "    </tr>\n",
       "    <tr>\n",
       "      <th>381</th>\n",
       "      <td>0.181831</td>\n",
       "      <td>-0.243994</td>\n",
       "    </tr>\n",
       "    <tr>\n",
       "      <th>382</th>\n",
       "      <td>-0.007818</td>\n",
       "      <td>-0.327388</td>\n",
       "    </tr>\n",
       "    <tr>\n",
       "      <th>383</th>\n",
       "      <td>-0.818567</td>\n",
       "      <td>-0.137857</td>\n",
       "    </tr>\n",
       "    <tr>\n",
       "      <th>384</th>\n",
       "      <td>-1.145711</td>\n",
       "      <td>-1.115837</td>\n",
       "    </tr>\n",
       "    <tr>\n",
       "      <th>385</th>\n",
       "      <td>1.144298</td>\n",
       "      <td>0.574780</td>\n",
       "    </tr>\n",
       "  </tbody>\n",
       "</table>\n",
       "<p>386 rows × 2 columns</p>\n",
       "</div>"
      ],
      "text/plain": [
       "      Balance    Rating\n",
       "0   -0.356298 -0.425944\n",
       "1    0.994950  1.090304\n",
       "2    0.229243  1.325322\n",
       "3    1.139557  2.591389\n",
       "4   -0.361039  0.135068\n",
       "..        ...       ...\n",
       "381  0.181831 -0.243994\n",
       "382 -0.007818 -0.327388\n",
       "383 -0.818567 -0.137857\n",
       "384 -1.145711 -1.115837\n",
       "385  1.144298  0.574780\n",
       "\n",
       "[386 rows x 2 columns]"
      ]
     },
     "execution_count": 26,
     "metadata": {},
     "output_type": "execute_result"
    }
   ],
   "source": [
    "# .flatten() : 1차원으로 변경\n",
    "data = pd.DataFrame({'Balance':balance_scaled.flatten(),\n",
    "                     'Rating':rating_scaled.flatten()})\n",
    "data"
   ]
  },
  {
   "cell_type": "markdown",
   "id": "f2f7cd70",
   "metadata": {
    "id": "f2f7cd70"
   },
   "source": [
    "### [2-5]\n",
    "\n",
    "sklearn.cluster라이브러리의 DBSCAN 매서드를 활용해(eps = 0.25, min_samples = 5로 설정하기)<br>\n",
    "data를 fit_predict해서 strange 변수에 저장해주세요"
   ]
  },
  {
   "cell_type": "code",
   "execution_count": 27,
   "id": "8c10e4c6",
   "metadata": {
    "colab": {
     "base_uri": "https://localhost:8080/"
    },
    "id": "8c10e4c6",
    "outputId": "70e3e709-7302-4a75-e894-485e9b18ab5d"
   },
   "outputs": [
    {
     "name": "stdout",
     "output_type": "stream",
     "text": [
      " 0    338\n",
      "-1     48\n",
      "dtype: int64\n"
     ]
    }
   ],
   "source": [
    "from sklearn.cluster import DBSCAN\n",
    "\n",
    "model = DBSCAN(eps = 0.25, min_samples = 5)\n",
    "\n",
    "strange = model.fit_predict(data)\n",
    "print(pd.Series(strange).value_counts())"
   ]
  },
  {
   "cell_type": "markdown",
   "id": "132af7e6",
   "metadata": {
    "id": "132af7e6"
   },
   "source": [
    "### [2-6]\n",
    "\n",
    "1) credit_r에서 strange가 -1인 행들만 추출해 credit_removed 변수에 저장하세요<br><br>\n",
    "2) credit_removed에서 Balance열과 Rating열을 각각 balance_r과 rating_r변수에 저장하세요"
   ]
  },
  {
   "cell_type": "code",
   "execution_count": 28,
   "id": "b66840f4",
   "metadata": {
    "colab": {
     "base_uri": "https://localhost:8080/",
     "height": 574
    },
    "id": "b66840f4",
    "outputId": "d6848293-6ed4-4afc-d344-fb7790c050cb"
   },
   "outputs": [
    {
     "data": {
      "image/png": "[encoded data removed]",
      "text/plain": [
       "<Figure size 432x288 with 1 Axes>"
      ]
     },
     "metadata": {
      "needs_background": "light"
     },
     "output_type": "display_data"
    },
    {
     "data": {
      "image/png": "[encoded data removed]",
      "text/plain": [
       "<Figure size 432x288 with 1 Axes>"
      ]
     },
     "metadata": {
      "needs_background": "light"
     },
     "output_type": "display_data"
    }
   ],
   "source": [
    "drop_idx = np.where(strange == -1)[0]\n",
    "credit_removed = credit_r.drop(drop_idx, axis = 0)\n",
    "\n",
    "balance_r = credit_removed['Balance']\n",
    "rating_r = credit_removed['Rating']\n",
    "\n",
    "plt.figure()\n",
    "plt.scatter(balance, rating)\n",
    "plt.xlabel(\"balacne\")\n",
    "plt.ylabel(\"rating\")\n",
    "plt.title(\"Before removing strange\")\n",
    "plt.show()\n",
    "\n",
    "plt.figure()\n",
    "plt.scatter(balance_r, rating_r)\n",
    "plt.xlabel(\"balacne_r\")\n",
    "plt.ylabel(\"rating_r\")\n",
    "plt.title(\"After removing strange\")\n",
    "plt.show()"
   ]
  },
  {
   "cell_type": "markdown",
   "id": "d4cd5b0a",
   "metadata": {
    "id": "d4cd5b0a"
   },
   "source": [
    "### [2-7]\n",
    "1) x를 독립변수, y를 종속변수로 두고, train_test_split을 활용해 trin_input, test_input, train_target, test_target으로 나누세요 (random_state는 5)<br><br>\n",
    "2) train_input, test_input을 2차원 열벡터로 변환해 저장하세요"
   ]
  },
  {
   "cell_type": "code",
   "execution_count": 29,
   "id": "f9d64691",
   "metadata": {
    "colab": {
     "base_uri": "https://localhost:8080/",
     "height": 374
    },
    "id": "f9d64691",
    "outputId": "0eb71ef4-6e00-4e8b-8edc-2c94f46438a3"
   },
   "outputs": [
    {
     "data": {
      "image/png": "[encoded data removed]",
      "text/plain": [
       "<Figure size 288x432 with 1 Axes>"
      ]
     },
     "metadata": {
      "needs_background": "light"
     },
     "output_type": "display_data"
    }
   ],
   "source": [
    "np.random.seed(5)\n",
    "x = np.random.rand(len(credit))\n",
    "y = x**2 +1 + 0.05 * np.random.randn(len(credit))\n",
    "credit[\"x\"] = x\n",
    "credit[\"y\"] = y\n",
    "plt.figure(figsize = (4,6))\n",
    "plt.scatter(x,y)\n",
    "plt.show()\n"
   ]
  },
  {
   "cell_type": "code",
   "execution_count": 30,
   "id": "3a9815ff",
   "metadata": {
    "id": "3a9815ff"
   },
   "outputs": [],
   "source": [
    "train_input, test_input, train_target, test_target =\\\n",
    "    train_test_split(x, y, random_state = 5)\n",
    "\n",
    "train_input = np.array(train_input)[:, np.newaxis]\n",
    "test_input = np.array(test_input)[:, np.newaxis]"
   ]
  },
  {
   "cell_type": "markdown",
   "id": "iharqVAqkU_g",
   "metadata": {
    "id": "iharqVAqkU_g"
   },
   "source": [
    "### [2-8]\n",
    "\n",
    "선형회귀 모델 lr1을 만들어 train set을 활용해 학습시킨 다음, train set의 스코어는 train_score1에, test set의 스코어는 test_socre1에 저장해서 출력하세요"
   ]
  },
  {
   "cell_type": "code",
   "execution_count": 32,
   "id": "d1b112f1",
   "metadata": {
    "colab": {
     "base_uri": "https://localhost:8080/",
     "height": 315
    },
    "id": "d1b112f1",
    "outputId": "f54500ec-b84c-4126-8207-cf54ac068db6"
   },
   "outputs": [
    {
     "name": "stdout",
     "output_type": "stream",
     "text": [
      "0.9142998868450842\n",
      "0.9343919316660005\n"
     ]
    },
    {
     "data": {
      "image/png": "[encoded data removed]",
      "text/plain": [
       "<Figure size 432x288 with 1 Axes>"
      ]
     },
     "metadata": {
      "needs_background": "light"
     },
     "output_type": "display_data"
    }
   ],
   "source": [
    "from sklearn.linear_model import LinearRegression\n",
    "lr1 = LinearRegression()\n",
    "\n",
    "lr1.fit(train_input, train_target)\n",
    "train_score1 = lr1.score(train_input, train_target)\n",
    "test_score1 = lr1.score(test_input, test_target)\n",
    "print(train_score1)\n",
    "print(test_score1)\n",
    "\n",
    "point = np.arange(0,1,0.01).reshape(-1,1)\n",
    "plt.scatter(x,y)\n",
    "plt.plot(point, lr1.predict(point) ,c =\"r\")\n",
    "plt.xlabel(\"x\")\n",
    "plt.ylabel(\"y\")\n",
    "plt.show()"
   ]
  },
  {
   "cell_type": "markdown",
   "id": "-2z9BuQBkecy",
   "metadata": {
    "id": "-2z9BuQBkecy"
   },
   "source": [
    "### [2-9]\n",
    "\n",
    "1) train_input^2을 첫번째 열로, train_input을 두번째 열로 갖는 2d array인 train_poly를 만드세요<br><br>\n",
    "2) test_input^2을 첫번째 열로, test_input을 두번째 열로 갖는 2d array인 test_poly를 만드세요"
   ]
  },
  {
   "cell_type": "code",
   "execution_count": 33,
   "id": "f4f29d9a",
   "metadata": {
    "id": "f4f29d9a"
   },
   "outputs": [],
   "source": [
    "train_poly = np.hstack((train_input**2, train_input))\n",
    "test_poly = np.hstack((test_input**2, test_input))"
   ]
  },
  {
   "cell_type": "markdown",
   "id": "OqTT8IP8kho-",
   "metadata": {
    "id": "OqTT8IP8kho-"
   },
   "source": [
    "### [2-10]\n",
    "\n",
    "선형회귀 모델 lr2를 만들어 train_poly와 train_target을 활용해 학습시킨 후,<br> train_poly와 train_target을 통해 구한 스코어는 train_score2에, test_poly와 test_target을 통해 구한 스코어는 test_socre2에 저장해서 출력하세요"
   ]
  },
  {
   "cell_type": "code",
   "execution_count": 34,
   "id": "6e23260a",
   "metadata": {
    "colab": {
     "base_uri": "https://localhost:8080/",
     "height": 315
    },
    "id": "6e23260a",
    "outputId": "25b3ff51-8303-414e-df38-4aec5f9c1694"
   },
   "outputs": [
    {
     "name": "stdout",
     "output_type": "stream",
     "text": [
      "0.9731739279005787\n",
      "0.9784434634493334\n"
     ]
    },
    {
     "data": {
      "image/png": "[encoded data removed]",
      "text/plain": [
       "<Figure size 432x288 with 1 Axes>"
      ]
     },
     "metadata": {
      "needs_background": "light"
     },
     "output_type": "display_data"
    }
   ],
   "source": [
    "lr2 = LinearRegression()\n",
    "\n",
    "lr2.fit(train_poly, train_target)\n",
    "\n",
    "train_score2 = lr2.score(train_poly, train_target)\n",
    "test_score2 = lr2.score(test_poly, test_target)\n",
    "\n",
    "print(train_score2)\n",
    "print(test_score2)\n",
    "\n",
    "point = np.arange(0,1,0.01).reshape(-1,1)\n",
    "plt.scatter(x,y)\n",
    "point_input = np.column_stack((point**2,point))\n",
    "plt.scatter(x,y)\n",
    "plt.plot(point, lr2.predict(point_input) ,c =\"b\")\n",
    "plt.xlabel(\"x\")\n",
    "plt.ylabel(\"y\")\n",
    "plt.show()"
   ]
  },
  {
   "cell_type": "markdown",
   "id": "2jgPeltwkt7j",
   "metadata": {
    "id": "2jgPeltwkt7j"
   },
   "source": [
    "### [2-11]\n",
    "\n",
    "1) matplotlib을 활용해 실제 x값과 y값의 scatterplot을 그린 후,<br>\n",
    "2) train_input을 활용해 학습한 lr1에 np.arange(0,1,0.01)를 독립변수로 사용하여 도출한 예측값을 종속변수로 하는 plot을 그리세요<br>\n",
    "\n",
    "3) train_poly를 활용해 학습한 lr2에 np.arange(0,1,0.01)를 독립변수로 사용하여 도출한 예측값을 종속변수로 하는 plot을 그리세요<br><br>\n",
    "\n",
    "4) lr1을 사용했을 때의 트레인 스코어, 테스트 스코어와 lr2를 사용했을 때의 트레인 스코어, 테스트 스코어를 각각 비교하세요\n"
   ]
  },
  {
   "cell_type": "code",
   "execution_count": 37,
   "id": "0d175fb1",
   "metadata": {
    "colab": {
     "base_uri": "https://localhost:8080/",
     "height": 368
    },
    "id": "0d175fb1",
    "outputId": "e3c581d8-5bc7-47b0-c238-fc56bf5a34cf"
   },
   "outputs": [
    {
     "data": {
      "image/png": "[encoded data removed]",
      "text/plain": [
       "<Figure size 432x288 with 1 Axes>"
      ]
     },
     "metadata": {
      "needs_background": "light"
     },
     "output_type": "display_data"
    },
    {
     "name": "stdout",
     "output_type": "stream",
     "text": [
      "<score comparison>\n",
      "train_score1 vs train_score2 :\n",
      " 0.914 vs 0.973\n",
      "test_score1  vs  test_score2 :\n",
      " 0.934 vs 0.978\n"
     ]
    }
   ],
   "source": [
    "point = np.arange(0,1,0.01).reshape(-1,1)\n",
    "point_input = np.column_stack((point**2,point))\n",
    "\n",
    "plt.figure()\n",
    "plt.scatter(x, y, c=\"c\") \n",
    "\n",
    "plt.plot(point, lr1.predict(point), c = \"b\") \n",
    "\n",
    "plt.plot(point, lr2.predict(point_input), c =\"r\") \n",
    "plt.xlabel(\"x\")\n",
    "plt.ylabel(\"y\")\n",
    "plt.show()\n",
    "\n",
    "print(\"<score comparison>\")\n",
    "print(f\"\"\"train_score1 vs train_score2 :\n",
    " {train_score1.round(3)} vs {train_score2.round(3)}\"\"\")\n",
    "print(f\"\"\"test_score1  vs  test_score2 :\n",
    " {test_score1.round(3)} vs {test_score2.round(3)}\"\"\")"
   ]
  },
  {
   "cell_type": "markdown",
   "id": "TacPsKVqk4A0",
   "metadata": {
    "id": "TacPsKVqk4A0"
   },
   "source": [
    "## 서술형 문항\n",
    "[2-3] ~ [2-5] 문제에서 DBSCAN을 사용할 때 StandardScaler를 활용해서 데이터를 정규화한 후에 DBSCAN을 활용했는데요.\n",
    "\n",
    "이렇게 정규화를 한 후에 DBSCAN을 활용하는 이유는 무엇일까요?"
   ]
  },
  {
   "cell_type": "markdown",
   "id": "eluq5_-olTYo",
   "metadata": {
    "id": "eluq5_-olTYo"
   },
   "source": [
    "<답> :  DBSCAN에서는 군집화를 하는 기준으로 유클리디안 거리리를 활용해 각 데이터별로 거리를 구한 뒤, 설정한 eps 값 이내에 해당하는 데이터끼리 군집화를 한다. 이 때 데이터가 정규화되지 않아서 해당 데이터를 나타내는 지표들의 스케일이 다르다면, 데이터 간의 실질적인 거리를 측정하기 어렵기 때문이다."
   ]
  }
 ],
 "metadata": {
  "colab": {
   "collapsed_sections": [],
   "name": "_3주차_복습과제.ipynb",
   "provenance": []
  },
  "kernelspec": {
   "display_name": "Python 3 (ipykernel)",
   "language": "python",
   "name": "python3"
  },
  "language_info": {
   "codemirror_mode": {
    "name": "ipython",
    "version": 3
   },
   "file_extension": ".py",
   "mimetype": "text/x-python",
   "name": "python",
   "nbconvert_exporter": "python",
   "pygments_lexer": "ipython3",
   "version": "3.9.7"
  }
 },
 "nbformat": 4,
 "nbformat_minor": 5
}
